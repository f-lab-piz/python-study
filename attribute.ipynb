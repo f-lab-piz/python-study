{
 "cells": [
  {
   "cell_type": "code",
   "execution_count": 3,
   "metadata": {},
   "outputs": [
    {
     "name": "stdout",
     "output_type": "stream",
     "text": [
      "red\n",
      "blue\n",
      "4\n",
      "10\n"
     ]
    }
   ],
   "source": [
    "class Car:\n",
    "    wheels = 4  # 클래스 애트리뷰트\n",
    "\n",
    "    def __init__(self, color):\n",
    "        self.color = color  # 인스턴스 애트리뷰트\n",
    "\n",
    "car1 = Car(\"red\")\n",
    "car2 = Car(\"blue\")\n",
    "car1.size = 10\n",
    "\n",
    "print(car1.color)  # red\n",
    "print(car2.color)  # blue\n",
    "print(car1.wheels)  # 4\n",
    "print(car1.size)  # 10\n",
    "# print(car2.size)  # error"
   ]
  },
  {
   "cell_type": "code",
   "execution_count": null,
   "metadata": {},
   "outputs": [],
   "source": [
    "# 유효성 검사, 추가로직\n",
    "# 데이터 은닉 캡슐화\n",
    "\n",
    "class Person:\n",
    "    def __init__(self, name):\n",
    "        self._name = name\n",
    "\n",
    "    @property\n",
    "    def name(self):\n",
    "        return self._name\n",
    "\n",
    "    @name.setter\n",
    "    def name(self, value):\n",
    "        if not value:\n",
    "            raise ValueError(\"Name cannot be empty\")\n",
    "        self._name = value\n",
    "\n",
    "person = Person(\"Alice\")\n",
    "print(person.name)\n",
    "\n",
    "person.name = \"Bob\"\n",
    "print(person.name)\n",
    "\n",
    "# person.name = \"\"  # ValueError: Name cannot be empty"
   ]
  }
 ],
 "metadata": {
  "kernelspec": {
   "display_name": "Python 3",
   "language": "python",
   "name": "python3"
  },
  "language_info": {
   "codemirror_mode": {
    "name": "ipython",
    "version": 3
   },
   "file_extension": ".py",
   "mimetype": "text/x-python",
   "name": "python",
   "nbconvert_exporter": "python",
   "pygments_lexer": "ipython3",
   "version": "3.13.0"
  }
 },
 "nbformat": 4,
 "nbformat_minor": 2
}
