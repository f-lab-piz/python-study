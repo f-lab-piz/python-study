{
 "cells": [
  {
   "cell_type": "code",
   "execution_count": null,
   "metadata": {},
   "outputs": [],
   "source": [
    "def make_multiplier(x):\n",
    "    def multiplier(n):\n",
    "        return x * n\n",
    "    return multiplier\n",
    "\n",
    "times3 = make_multiplier(3)\n",
    "print(times3(10))\n",
    "print(times3(5))"
   ]
  },
  {
   "cell_type": "code",
   "execution_count": null,
   "metadata": {},
   "outputs": [],
   "source": [
    "multiply = lambda x, n: x * n\n",
    "\n",
    "print(multiply(3, 10))\n",
    "print(multiply(3, 5))"
   ]
  },
  {
   "cell_type": "code",
   "execution_count": null,
   "metadata": {},
   "outputs": [],
   "source": [
    "def debug(func):\n",
    "    def wrapper(*args, **kwargs):\n",
    "        print(f\"Calling {func.__name__} with args: {args}, kwargs: {kwargs}\")\n",
    "        result = func(*args, **kwargs)\n",
    "        print(f\"{func.__name__} returned: {result}\")\n",
    "        return result\n",
    "    return wrapper\n",
    "\n",
    "@debug\n",
    "def add(a, b):\n",
    "    return a + b\n",
    "\n",
    "add(3, 5)"
   ]
  },
  {
   "cell_type": "code",
   "execution_count": null,
   "metadata": {},
   "outputs": [],
   "source": [
    "def repeat(n):\n",
    "    def decorator(func):\n",
    "        def wrapper(*args, **kwargs):\n",
    "            for _ in range(n):\n",
    "                result = func(*args, **kwargs)\n",
    "            return result\n",
    "        return wrapper\n",
    "    return decorator\n",
    "\n",
    "@repeat(3)\n",
    "def greet(name):\n",
    "    print(f\"Hello, {name}!\")\n",
    "\n",
    "greet(\"Alice\")"
   ]
  },
  {
   "cell_type": "code",
   "execution_count": null,
   "metadata": {},
   "outputs": [],
   "source": [
    "def debug(func):\n",
    "    def wrapper(*args, **kwargs):\n",
    "        print(f\"Calling {func.__name__}\")\n",
    "        return func(*args, **kwargs)\n",
    "    return wrapper\n",
    "\n",
    "@debug\n",
    "def add(a, b):\n",
    "    \"\"\"두 수를 더합니다.\"\"\"\n",
    "    return a + b\n",
    "\n",
    "print(add.__name__)\n",
    "print(add.__doc__)"
   ]
  },
  {
   "cell_type": "code",
   "execution_count": null,
   "metadata": {},
   "outputs": [],
   "source": [
    "from functools import wraps\n",
    "\n",
    "def debug(func):\n",
    "    @wraps(func)\n",
    "    def wrapper(*args, **kwargs):\n",
    "        print(f\"Calling {func.__name__}\")\n",
    "        return func(*args, **kwargs)\n",
    "    return wrapper\n",
    "\n",
    "@debug\n",
    "def add(a, b):\n",
    "    \"\"\"두 수를 더합니다.\"\"\"\n",
    "    return a + b\n",
    "\n",
    "print(add.__name__)\n",
    "print(add.__doc__)"
   ]
  },
  {
   "cell_type": "code",
   "execution_count": null,
   "metadata": {},
   "outputs": [],
   "source": [
    "from functools import wraps\n",
    "\n",
    "def decorator1(func):\n",
    "    @wraps(func)\n",
    "    def wrapper(*args, **kwargs):\n",
    "        print(\"Decorator 1 시작\")\n",
    "        result = func(*args, **kwargs)\n",
    "        print(\"Decorator 1 끝\")\n",
    "        return result\n",
    "    return wrapper\n",
    "\n",
    "def decorator2(func):\n",
    "    @wraps(func)\n",
    "    def wrapper(*args, **kwargs):\n",
    "        print(\"Decorator 2 시작\")\n",
    "        result = func(*args, **kwargs)\n",
    "        print(\"Decorator 2 끝\")\n",
    "        return result\n",
    "    return wrapper\n",
    "\n",
    "@decorator1\n",
    "@decorator2\n",
    "def say_hello():\n",
    "    print(\"Hello!\")\n",
    "\n",
    "say_hello()"
   ]
  },
  {
   "cell_type": "code",
   "execution_count": null,
   "metadata": {},
   "outputs": [],
   "source": [
    "def decorator_class(cls):\n",
    "    class NewClass(cls):\n",
    "        def new_method(self):\n",
    "            print(\"새로운 메서드 추가!\")\n",
    "    return NewClass\n",
    "\n",
    "@decorator_class\n",
    "class MyClass:\n",
    "    def original_method(self):\n",
    "        print(\"원래 메서드\")\n",
    "\n",
    "obj = MyClass()\n",
    "obj.original_method()\n",
    "obj.new_method()"
   ]
  },
  {
   "cell_type": "code",
   "execution_count": 4,
   "metadata": {},
   "outputs": [
    {
     "name": "stdout",
     "output_type": "stream",
     "text": [
      "1\n",
      "2\n",
      "3\n"
     ]
    }
   ],
   "source": [
    "def count_up_to(max):\n",
    "    count = 1\n",
    "    while count <= max:\n",
    "        yield count\n",
    "        count += 1\n",
    "\n",
    "counter = count_up_to(3)\n",
    "\n",
    "for i in counter:\n",
    "    print(i)\n",
    "\n",
    "# print(next(counter))  # 1\n",
    "# print(next(counter))  # 2\n",
    "# print(next(counter))  # 3"
   ]
  }
 ],
 "metadata": {
  "kernelspec": {
   "display_name": "Python 3",
   "language": "python",
   "name": "python3"
  },
  "language_info": {
   "codemirror_mode": {
    "name": "ipython",
    "version": 3
   },
   "file_extension": ".py",
   "mimetype": "text/x-python",
   "name": "python",
   "nbconvert_exporter": "python",
   "pygments_lexer": "ipython3",
   "version": "3.13.0"
  }
 },
 "nbformat": 4,
 "nbformat_minor": 2
}
