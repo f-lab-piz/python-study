{
 "cells": [
  {
   "cell_type": "markdown",
   "metadata": {},
   "source": [
    "\t1.\t일반 함수: 바로 값을 반환.\n",
    "\t2.\t제너레이터: yield 를 써서 값을 하나씩 생성.\n",
    "\t3.\t코루틴: \n",
    "\t- 전통적 코루틴 (제너레이터 기반): \n",
    "\t\t•\tyield, send(), throw(), close() 활용\n",
    "\t\t•\tasyncio 나오기 전 방식\n",
    "\t\t•\t데이터 주고받기에 특화\n",
    "\t- asyncio 코루틴 (async/await 기반)\n",
    "\t\t•\tasync def, await\n",
    "\t\t•\t데이터 주고받기보다는 비동기 작업과 스케줄링에 초점\n",
    "\t\t•\tasyncio 이벤트 루프 사용\n"
   ]
  },
  {
   "cell_type": "code",
   "execution_count": 1,
   "metadata": {},
   "outputs": [
    {
     "name": "stdout",
     "output_type": "stream",
     "text": [
      "1\n",
      "2\n",
      "3\n"
     ]
    }
   ],
   "source": [
    "def count_up_to(max):\n",
    "    count = 1\n",
    "    while count <= max:\n",
    "        yield count\n",
    "        count += 1\n",
    "\n",
    "counter = count_up_to(3)\n",
    "print(next(counter))\n",
    "print(next(counter))\n",
    "print(next(counter))"
   ]
  },
  {
   "cell_type": "code",
   "execution_count": 2,
   "metadata": {},
   "outputs": [],
   "source": [
    "def infinite():\n",
    "    num = 0\n",
    "    while True:\n",
    "        yield num\n",
    "        num += 1"
   ]
  },
  {
   "cell_type": "code",
   "execution_count": null,
   "metadata": {},
   "outputs": [],
   "source": [
    "# yield + send -> 코루틴 안에서 값을 받아오고 보낼 수 있음.\n",
    "\n",
    "def conversation():\n",
    "    name = yield \"What's your name?\"\n",
    "    yield f\"Nice to meet you, {name}!\"\n",
    "\n",
    "coro = conversation()\n",
    "question = next(coro)  # What's your name?\n",
    "answer = coro.send(\"Alice\")  # Nice to meet you, Alice!\n",
    "print(answer)"
   ]
  },
  {
   "cell_type": "code",
   "execution_count": null,
   "metadata": {},
   "outputs": [],
   "source": [
    "# asyncio를 활용한 코루틴\n",
    "\n",
    "import asyncio\n",
    "\n",
    "async def say_hello():\n",
    "    print(\"Hello\")\n",
    "    await asyncio.sleep(1)\n",
    "    print(\"World\")\n",
    "\n",
    "asyncio.run(say_hello())"
   ]
  }
 ],
 "metadata": {
  "kernelspec": {
   "display_name": "Python 3",
   "language": "python",
   "name": "python3"
  },
  "language_info": {
   "codemirror_mode": {
    "name": "ipython",
    "version": 3
   },
   "file_extension": ".py",
   "mimetype": "text/x-python",
   "name": "python",
   "nbconvert_exporter": "python",
   "pygments_lexer": "ipython3",
   "version": "3.13.0"
  }
 },
 "nbformat": 4,
 "nbformat_minor": 2
}
